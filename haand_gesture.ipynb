{
  "nbformat": 4,
  "nbformat_minor": 0,
  "metadata": {
    "colab": {
      "provenance": [],
      "authorship_tag": "ABX9TyMFr8P6gosSW3KgNLhE8GZS",
      "include_colab_link": true
    },
    "kernelspec": {
      "name": "python3",
      "display_name": "Python 3"
    },
    "language_info": {
      "name": "python"
    }
  },
  "cells": [
    {
      "cell_type": "markdown",
      "metadata": {
        "id": "view-in-github",
        "colab_type": "text"
      },
      "source": [
        "<a href=\"https://colab.research.google.com/github/payaswini126/gesture/blob/main/haand_gesture.ipynb\" target=\"_parent\"><img src=\"https://colab.research.google.com/assets/colab-badge.svg\" alt=\"Open In Colab\"/></a>"
      ]
    },
    {
      "cell_type": "code",
      "execution_count": 4,
      "metadata": {
        "colab": {
          "base_uri": "https://localhost:8080/",
          "height": 813
        },
        "id": "n3qrnD-Xo-c-",
        "outputId": "c09db085-1125-4207-a64e-44af6b0f6c42"
      },
      "outputs": [
        {
          "output_type": "stream",
          "name": "stdout",
          "text": [
            "Training CNN Model...\n",
            "Epoch 1/5\n"
          ]
        },
        {
          "output_type": "stream",
          "name": "stderr",
          "text": [
            "/usr/local/lib/python3.10/dist-packages/keras/src/layers/convolutional/base_conv.py:107: UserWarning: Do not pass an `input_shape`/`input_dim` argument to a layer. When using Sequential models, prefer using an `Input(shape)` object as the first layer in the model instead.\n",
            "  super().__init__(activity_regularizer=activity_regularizer, **kwargs)\n"
          ]
        },
        {
          "output_type": "stream",
          "name": "stdout",
          "text": [
            "\u001b[1m5/5\u001b[0m \u001b[32m━━━━━━━━━━━━━━━━━━━━\u001b[0m\u001b[37m\u001b[0m \u001b[1m3s\u001b[0m 228ms/step - accuracy: 0.4836 - loss: 0.9702 - val_accuracy: 0.3750 - val_loss: 0.8103\n",
            "Epoch 2/5\n",
            "\u001b[1m5/5\u001b[0m \u001b[32m━━━━━━━━━━━━━━━━━━━━\u001b[0m\u001b[37m\u001b[0m \u001b[1m1s\u001b[0m 177ms/step - accuracy: 0.5473 - loss: 0.6937 - val_accuracy: 0.3750 - val_loss: 0.6992\n",
            "Epoch 3/5\n",
            "\u001b[1m5/5\u001b[0m \u001b[32m━━━━━━━━━━━━━━━━━━━━\u001b[0m\u001b[37m\u001b[0m \u001b[1m1s\u001b[0m 180ms/step - accuracy: 0.5562 - loss: 0.6898 - val_accuracy: 0.6250 - val_loss: 0.6907\n",
            "Epoch 4/5\n",
            "\u001b[1m5/5\u001b[0m \u001b[32m━━━━━━━━━━━━━━━━━━━━\u001b[0m\u001b[37m\u001b[0m \u001b[1m1s\u001b[0m 175ms/step - accuracy: 0.4935 - loss: 0.6917 - val_accuracy: 0.3750 - val_loss: 0.6958\n",
            "Epoch 5/5\n",
            "\u001b[1m5/5\u001b[0m \u001b[32m━━━━━━━━━━━━━━━━━━━━\u001b[0m\u001b[37m\u001b[0m \u001b[1m1s\u001b[0m 172ms/step - accuracy: 0.5477 - loss: 0.6903 - val_accuracy: 0.3750 - val_loss: 0.7188\n",
            "\u001b[1m2/2\u001b[0m \u001b[32m━━━━━━━━━━━━━━━━━━━━\u001b[0m\u001b[37m\u001b[0m \u001b[1m0s\u001b[0m 17ms/step - accuracy: 0.3750 - loss: 0.7188\n",
            "Test Accuracy (CNN): 37.50%\n",
            "\n",
            "Training SVM Model...\n",
            "Test Accuracy (SVM): 57.50%\n",
            "\n",
            "Testing on Random Image...\n",
            "\u001b[1m1/1\u001b[0m \u001b[32m━━━━━━━━━━━━━━━━━━━━\u001b[0m\u001b[37m\u001b[0m \u001b[1m0s\u001b[0m 76ms/step\n"
          ]
        },
        {
          "output_type": "display_data",
          "data": {
            "text/plain": [
              "<Figure size 640x480 with 1 Axes>"
            ],
            "image/png": "[encoded data removed]"
          },
          "metadata": {}
        }
      ],
      "source": [
        "import os\n",
        "import cv2\n",
        "import numpy as np\n",
        "from sklearn.model_selection import train_test_split\n",
        "from sklearn.svm import SVC\n",
        "from sklearn.metrics import accuracy_score\n",
        "from tensorflow.keras.models import Sequential\n",
        "from tensorflow.keras.layers import Conv2D, MaxPooling2D, Flatten, Dense\n",
        "from tensorflow.keras.utils import to_categorical\n",
        "import matplotlib.pyplot as plt\n",
        "\n",
        "# ----------- Simulated Dataset -----------\n",
        "def generate_dummy_images(img_count=100, img_size=(64, 64)):\n",
        "    \"\"\"\n",
        "    Generate dummy hand gesture images with random noise.\n",
        "    \"\"\"\n",
        "    images = []\n",
        "    labels = []\n",
        "    for i in range(img_count):\n",
        "        img = np.random.randint(0, 256, (img_size[0], img_size[1]), dtype=np.uint8)\n",
        "        label = 0 if i < img_count // 2 else 1  # First half for Gesture 1, second half for Gesture 2\n",
        "        images.append(img)\n",
        "        labels.append(label)\n",
        "    return images, labels\n",
        "\n",
        "# Generate Dataset\n",
        "gesture1_images, gesture1_labels = generate_dummy_images(img_count=100)\n",
        "gesture2_images, gesture2_labels = generate_dummy_images(img_count=100)\n",
        "\n",
        "# Combine Data\n",
        "X = np.array(gesture1_images + gesture2_images).reshape(-1, 64, 64, 1) / 255.0  # Normalize\n",
        "y = np.array(gesture1_labels + gesture2_labels)\n",
        "\n",
        "# Train-Test Split\n",
        "X_train, X_test, y_train, y_test = train_test_split(X, y, test_size=0.2, random_state=42)\n",
        "\n",
        "# ----------- CNN Model -----------\n",
        "y_train_cnn = to_categorical(y_train, num_classes=2)\n",
        "y_test_cnn = to_categorical(y_test, num_classes=2)\n",
        "\n",
        "print(\"Training CNN Model...\")\n",
        "model = Sequential([\n",
        "    Conv2D(32, (3, 3), activation='relu', input_shape=(64, 64, 1)),\n",
        "    MaxPooling2D((2, 2)),\n",
        "    Conv2D(64, (3, 3), activation='relu'),\n",
        "    MaxPooling2D((2, 2)),\n",
        "    Flatten(),\n",
        "    Dense(128, activation='relu'),\n",
        "    Dense(2, activation='softmax')\n",
        "])\n",
        "\n",
        "model.compile(optimizer='adam', loss='categorical_crossentropy', metrics=['accuracy'])\n",
        "model.fit(X_train, y_train_cnn, epochs=5, batch_size=32, validation_data=(X_test, y_test_cnn))\n",
        "\n",
        "# Evaluate CNN\n",
        "loss, acc = model.evaluate(X_test, y_test_cnn)\n",
        "print(f\"Test Accuracy (CNN): {acc * 100:.2f}%\")\n",
        "\n",
        "# ----------- SVM Model -----------\n",
        "X_train_flat = X_train.reshape(X_train.shape[0], -1)\n",
        "X_test_flat = X_test.reshape(X_test.shape[0], -1)\n",
        "\n",
        "print(\"\\nTraining SVM Model...\")\n",
        "svm_model = SVC(kernel='linear')\n",
        "svm_model.fit(X_train_flat, y_train)\n",
        "\n",
        "# Predict and Evaluate\n",
        "y_pred = svm_model.predict(X_test_flat)\n",
        "accuracy = accuracy_score(y_test, y_pred)\n",
        "print(f\"Test Accuracy (SVM): {accuracy * 100:.2f}%\")\n",
        "\n",
        "# ----------- Visualize Predictions -----------\n",
        "def visualize_prediction(img, label):\n",
        "    plt.imshow(img.squeeze(), cmap='gray')\n",
        "    plt.title(f\"Predicted Gesture: {'Gesture 1' if label == 0 else 'Gesture 2'}\")\n",
        "    plt.axis('off')\n",
        "    plt.show()\n",
        "\n",
        "# Test on Random Test Images\n",
        "print(\"\\nTesting on Random Image...\")\n",
        "sample_index = np.random.randint(0, len(X_test))\n",
        "sample_image = X_test[sample_index].reshape(1, 64, 64, 1)\n",
        "cnn_prediction = np.argmax(model.predict(sample_image))\n",
        "\n",
        "visualize_prediction(X_test[sample_index], cnn_prediction)\n",
        "\n"
      ]
    },
    {
      "cell_type": "code",
      "source": [],
      "metadata": {
        "id": "8htKRUUpp0x8"
      },
      "execution_count": 3,
      "outputs": []
    }
  ]
}